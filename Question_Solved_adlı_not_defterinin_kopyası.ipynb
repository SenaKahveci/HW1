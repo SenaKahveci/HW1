{
  "nbformat": 4,
  "nbformat_minor": 0,
  "metadata": {
    "colab": {
      "provenance": [],
      "authorship_tag": "ABX9TyNXfndObvlIJXmgN53b+YZq",
      "include_colab_link": true
    },
    "kernelspec": {
      "name": "python3",
      "display_name": "Python 3"
    },
    "language_info": {
      "name": "python"
    }
  },
  "cells": [
    {
      "cell_type": "markdown",
      "metadata": {
        "id": "view-in-github",
        "colab_type": "text"
      },
      "source": [
        "<a href=\"https://colab.research.google.com/github/SenaKahveci/HW1/blob/master/Question_Solved_adl%C4%B1_not_defterinin_kopyas%C4%B1.ipynb\" target=\"_parent\"><img src=\"https://colab.research.google.com/assets/colab-badge.svg\" alt=\"Open In Colab\"/></a>"
      ]
    },
    {
      "cell_type": "markdown",
      "source": [
        "# FILE"
      ],
      "metadata": {
        "id": "N8Qav75FhUs7"
      }
    },
    {
      "cell_type": "code",
      "execution_count": null,
      "metadata": {
        "id": "IjfbsakdS1Ys"
      },
      "outputs": [],
      "source": [
        "import pandas as pd\n",
        "from google.colab import drive\n",
        "drive.mount('/content/SenaDrive')"
      ]
    },
    {
      "cell_type": "code",
      "source": [
        "data1= pd.read_csv('/content/SenaDrive/MyDrive/Çözümlü Örnek Data/Data for solved question.csv', encoding=\"cp1252\")\n",
        "data1.head()"
      ],
      "metadata": {
        "id": "-qG8IjQthyO2"
      },
      "execution_count": null,
      "outputs": []
    },
    {
      "cell_type": "code",
      "source": [
        "data2= pd.read_csv('/content/SenaDrive/MyDrive/Çözümlü Örnek Data/data mata.csv', encoding=\"cp1252\")\n",
        "data2.head()"
      ],
      "metadata": {
        "id": "ej3QYZqWh7l6"
      },
      "execution_count": null,
      "outputs": []
    },
    {
      "cell_type": "code",
      "source": [
        "data3= pd.read_csv('/content/SenaDrive/MyDrive/Çözümlü Örnek Data/data more retail.csv', encoding=\"cp1252\")\n",
        "data3.head()"
      ],
      "metadata": {
        "id": "Z2_ortXNh-5b"
      },
      "execution_count": null,
      "outputs": []
    },
    {
      "cell_type": "markdown",
      "source": [
        "## DESCRIPTIVE"
      ],
      "metadata": {
        "id": "KJ0EjovaiTbI"
      }
    },
    {
      "cell_type": "code",
      "source": [
        "df1 = data1[['Gross Sales', 'Total Net Sales', 'Net Quantity']].copy()\n",
        "df1.head"
      ],
      "metadata": {
        "id": "7R4-iSlfiZ2O"
      },
      "execution_count": null,
      "outputs": []
    },
    {
      "cell_type": "code",
      "source": [
        "df1.mean()"
      ],
      "metadata": {
        "id": "uY5Zr5Tsi7Yz"
      },
      "execution_count": null,
      "outputs": []
    },
    {
      "cell_type": "code",
      "source": [
        "df1.median()"
      ],
      "metadata": {
        "id": "g_BT2GY8jID3"
      },
      "execution_count": null,
      "outputs": []
    },
    {
      "cell_type": "code",
      "source": [
        "df1.mode()"
      ],
      "metadata": {
        "id": "34QU12pjjLxt"
      },
      "execution_count": null,
      "outputs": []
    },
    {
      "cell_type": "code",
      "source": [
        "df1.std()"
      ],
      "metadata": {
        "id": "8NLlY-b-jRzD"
      },
      "execution_count": null,
      "outputs": []
    },
    {
      "cell_type": "code",
      "source": [
        "df1.skew()"
      ],
      "metadata": {
        "id": "1pbr49KVjWFD"
      },
      "execution_count": null,
      "outputs": []
    },
    {
      "cell_type": "code",
      "source": [
        "#Mean absolute deviation\n",
        "df1.mad()"
      ],
      "metadata": {
        "id": "AXwn6VjmjcGh"
      },
      "execution_count": null,
      "outputs": []
    },
    {
      "cell_type": "markdown",
      "source": [
        "# VISUALIZATION"
      ],
      "metadata": {
        "id": "yOFyMNHujuLx"
      }
    },
    {
      "cell_type": "code",
      "source": [
        "import matplotlib.pyplot as plt\n",
        "import seaborn as sns\n",
        "plt.hist(data3['Customer Age'], color = 'blue', edgecolor = 'black',\n",
        "         bins = int(180/5))"
      ],
      "metadata": {
        "id": "JdN-jrzljxrM"
      },
      "execution_count": null,
      "outputs": []
    },
    {
      "cell_type": "code",
      "source": [
        "import matplotlib.pyplot as plt\n",
        "import seaborn as sns\n",
        "plt.hist(data3['Customer Age'], color = 'blue', edgecolor = 'black',\n",
        "         bins = int(100/10))"
      ],
      "metadata": {
        "id": "X7dE2R3Ek60a"
      },
      "execution_count": null,
      "outputs": []
    },
    {
      "cell_type": "code",
      "source": [
        "sns.distplot(data3['Customer Age'], hist=True, kde=True,\n",
        "             bins=int(180/15), color = 'darkblue',\n",
        "             hist_kws={'edgecolor':'black'},\n",
        "             kde_kws={'linewidth': 4})"
      ],
      "metadata": {
        "id": "OCtcQi8ElIN4"
      },
      "execution_count": null,
      "outputs": []
    },
    {
      "cell_type": "code",
      "source": [
        "df1.boxplot(figsize=(20,15))"
      ],
      "metadata": {
        "id": "UWaF5uB5lQn7"
      },
      "execution_count": null,
      "outputs": []
    },
    {
      "cell_type": "code",
      "source": [
        "df3 = data3['Product Category'].copy()\n",
        "df3.head"
      ],
      "metadata": {
        "id": "q3jpRLJYle9T"
      },
      "execution_count": null,
      "outputs": []
    },
    {
      "cell_type": "code",
      "source": [
        "countsPC={}\n",
        "for i in data3['Product Category']:\n",
        "  if i not in countsPC:\n",
        "    countsPC[i]=1\n",
        "  else:\n",
        "    countsPC[i]+=1\n",
        "countsPC\n",
        "\n",
        "labels = []\n",
        "sizes = []\n",
        "\n",
        "for x, y in countsPC.items():\n",
        "    labels.append(x)\n",
        "    sizes.append(y)\n",
        "\n",
        "# Plot\n",
        "plt.pie(sizes, labels=labels)\n",
        "\n",
        "plt.axis('equal')\n",
        "plt.show()"
      ],
      "metadata": {
        "id": "v-ryhsAKl-wu"
      },
      "execution_count": null,
      "outputs": []
    },
    {
      "cell_type": "code",
      "source": [
        "countsSC={}\n",
        "for i in data3['Sub Category']:\n",
        "  if i not in countsSC:\n",
        "    countsSC[i]=1\n",
        "  else:\n",
        "    countsSC[i]+=1\n",
        "countsSC\n",
        "\n",
        "labels = []\n",
        "sizes = []\n",
        "\n",
        "for x, y in countsSC.items():\n",
        "    labels.append(x)\n",
        "    sizes.append(y)\n",
        "\n",
        "# Plot\n",
        "plt.pie(sizes, labels=labels)\n",
        "\n",
        "plt.axis('equal')\n",
        "plt.show()"
      ],
      "metadata": {
        "id": "RqrolfYsmuvl"
      },
      "execution_count": null,
      "outputs": []
    },
    {
      "cell_type": "code",
      "source": [
        "ax = data2.plot(x='Month', y='Gross Sales', label='Gross')\n",
        "\n",
        "data2.plot(ax=ax, x='Month', y='Returns',label='Net')\n",
        "plt.xlabel(\"Date\")\n",
        "plt.ylabel(\"Sales\")"
      ],
      "metadata": {
        "id": "JbQy_yp0m-py"
      },
      "execution_count": null,
      "outputs": []
    },
    {
      "cell_type": "code",
      "source": [
        "data2.plot(\n",
        "   x='Month',\n",
        "   y='Returns',\n",
        "   kind='scatter'\n",
        ")\n",
        "\n",
        "plt.show()"
      ],
      "metadata": {
        "id": "5JodQPzVqQhA"
      },
      "execution_count": null,
      "outputs": []
    },
    {
      "cell_type": "code",
      "source": [
        "import pandas as pd\n",
        "import numpy as np\n",
        "ax1=data2.plot(kind='scatter',x='Month', y='Gross Sales',\n",
        "           color='DarkBlue', label='Gross');\n",
        "ax2=data2.plot(kind='scatter',x='Month', y='Net Sales',\n",
        "           color='DarkGreen', label='Net', ax=ax1)\n",
        "print(ax1 == ax2)"
      ],
      "metadata": {
        "id": "Qx2kKsQrrLpf"
      },
      "execution_count": null,
      "outputs": []
    },
    {
      "cell_type": "code",
      "source": [
        "import numpy as np\n",
        "from pandas import DataFrame\n",
        "import seaborn as sns\n",
        "%matplotlib inline\n",
        "\n",
        "Index= ['January', 'February', 'March', 'April', 'May']\n",
        "Cols = ['10-20', '20-30', '30-40', '40-50']\n",
        "df = DataFrame(abs(np.random.randn(5, 4)), index=Index, columns=Cols)\n",
        "df\n",
        "sns.heatmap(df, annot=True)"
      ],
      "metadata": {
        "id": "kk6icJXKrxRA"
      },
      "execution_count": null,
      "outputs": []
    }
  ]
}